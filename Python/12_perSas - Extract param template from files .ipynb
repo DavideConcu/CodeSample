{
 "cells": [
  {
   "cell_type": "code",
   "execution_count": 2,
   "id": "19d776f5",
   "metadata": {},
   "outputs": [],
   "source": [
    "import pandas as pd\n",
    "import numpy as np\n",
    "import openpyxl \n",
    "import os\n",
    "import sys\n",
    "import glob\n",
    "import regex as re\n",
    "import warnings\n",
    "from tqdm.auto import tqdm"
   ]
  },
  {
   "cell_type": "markdown",
   "id": "34933522",
   "metadata": {},
   "source": [
    "# Funzioni"
   ]
  },
  {
   "cell_type": "code",
   "execution_count": 3,
   "id": "d5c44966",
   "metadata": {},
   "outputs": [],
   "source": [
    "# 1) FILES NELLA CARTELLA \n",
    "def Files_in_dir(path, extension = \"xlsx\"):\n",
    "    #set working dir\n",
    "    os.chdir(path)\n",
    "\n",
    "    #extension = 'xlsx'\n",
    "\n",
    "    #crea la lista con i nomi di tutti i file nella cartella \n",
    "    all_filenames = [i for i in glob.glob('*.{}'.format(extension))]\n",
    "\n",
    "    print(\"Files in Path: \" , all_filenames)\n",
    "    \n",
    "    return all_filenames"
   ]
  },
  {
   "cell_type": "code",
   "execution_count": 4,
   "id": "cf6711d7",
   "metadata": {},
   "outputs": [],
   "source": [
    "# 2)  Apertura del workbook Excel\n",
    "def load_workbook(file):\n",
    "    \n",
    "    wb = openpyxl.load_workbook(filename= file , data_only=True)\n",
    "    print(\"Loaded File: \", file)\n",
    "        \n",
    "    return wb"
   ]
  },
  {
   "cell_type": "code",
   "execution_count": 13,
   "id": "534ee170",
   "metadata": {},
   "outputs": [],
   "source": [
    "def template_to_df(wb, template, first_row = True):\n",
    "    if template in wb.sheetnames:\n",
    "        \n",
    "        ws = wb[template]\n",
    "        \n",
    "        df = pd.DataFrame(ws.values)\n",
    "        \n",
    "        if first_row ==True:\n",
    "            col = list(df.iloc[0, :])\n",
    "            df = df.iloc[1:,:]\n",
    "            df.columns = col\n",
    "        \n",
    "    return df"
   ]
  },
  {
   "cell_type": "code",
   "execution_count": 14,
   "id": "d9b1bba1",
   "metadata": {},
   "outputs": [],
   "source": [
    "def create_finalDf(listaFiles, template):\n",
    "\n",
    "    finalDf = pd.DataFrame()\n",
    "\n",
    "    for file in listaFiles:\n",
    "        print(\"Extracting Template for File \", file)\n",
    "        \n",
    "        try:\n",
    "            wb = load_workbook(file)\n",
    "\n",
    "            if template in wb.sheetnames:\n",
    "\n",
    "                df = template_to_df(wb, template)\n",
    "\n",
    "                finalDf = pd.concat([finalDf, df], axis=0, ignore_index=True )\n",
    "        except:\n",
    "            warnings.warn('Problema con almeno un file')\n",
    "            print(\"problem with file \", file)\n",
    "\n",
    "    return finalDf"
   ]
  },
  {
   "cell_type": "code",
   "execution_count": 15,
   "id": "cff55f89",
   "metadata": {},
   "outputs": [],
   "source": [
    "def create_sumF100Df(finalDf):\n",
    "    \n",
    "    varsToSum = [\"Target F100\" , \"F100 achieved\" , \"Delta F100\"]\n",
    "    \n",
    "    for var in varsToSum:\n",
    "        for riga in range(len(finalDf)):\n",
    "            value = finalDf.loc[riga, var]\n",
    "            if type(value) != float and type(value) != int:\n",
    "\n",
    "                finalDf.loc[riga, var] = np.nan\n",
    "    \n",
    "    return finalDf.groupby(\"File\")[varsToSum].sum()\n",
    "    \n"
   ]
  },
  {
   "cell_type": "code",
   "execution_count": 16,
   "id": "e2d5ed69",
   "metadata": {},
   "outputs": [],
   "source": [
    "#Copia dei parametri in un nuovo File\n",
    "def copy_to_template(inputDf, targetWb, targetTemplate):\n",
    "    \n",
    "    # copia delle colonne nella prima riga del nuovo template\n",
    "    letter = 1\n",
    "    for col in inputDf.columns:\n",
    "        targetWb[targetTemplate].cell(1,letter).value = col\n",
    "        letter += 1\n",
    "\n",
    "    # Copia dei valori del dataset nel template\n",
    "    for riga in range(len(inputDf)):\n",
    "        for colonna in range(len(inputDf.columns)):\n",
    "            targetWb[targetTemplate].cell(riga + 2, colonna + 1).value =  inputDf.iloc[riga,colonna]\n",
    "            \n",
    "    return targetWb"
   ]
  },
  {
   "cell_type": "code",
   "execution_count": 17,
   "id": "6495f994",
   "metadata": {},
   "outputs": [],
   "source": [
    "def apply_styles(wb, template):\n",
    "    from openpyxl.styles import Font\n",
    "    from openpyxl.styles import PatternFill\n",
    "    \n",
    "    #Bold della prima riga\n",
    "    BoldFont = Font( bold=True)\n",
    "    for col in range(wb[template].max_column):\n",
    "        wb[template].cell(1, col + 1).font = BoldFont\n",
    "        \n",
    "    #evidenziare i missing\n",
    "    '''\n",
    "    yellow = \"00FFFF00\"\n",
    "    MissingFont = Font(color=yellow)\n",
    "    \n",
    "    MissingList = [\"MISSING\", \"#DIV/0!\",  \"#RIF!\" ]\n",
    "    \n",
    "    for riga in range(wb[template].max_row):\n",
    "        for colonna in range(wb[template].max_column):\n",
    "            valore = wb[template].cell(riga+2, colonna +1 ).value\n",
    "            if valore in MissingList:\n",
    "                 wb[template].cell(riga+2, colonna +1).fill = PatternFill(start_color=yellow, end_color=yellow, fill_type = \"solid\")\n",
    "    '''             \n",
    "    return wb"
   ]
  },
  {
   "cell_type": "markdown",
   "id": "25fea55f",
   "metadata": {},
   "source": [
    "# Process for Entire Folder"
   ]
  },
  {
   "cell_type": "code",
   "execution_count": 18,
   "id": "2c71b584",
   "metadata": {},
   "outputs": [],
   "source": [
    "def get_F100_folder(path, outPath, outFile, template_to_extract = \"Parameters Template\" ):\n",
    "             \n",
    "    #lista files in directory\n",
    "    filenames = Files_in_dir(path)\n",
    "        \n",
    "    # df con tutti i parametri di tutti i fogli\n",
    "    finalDf = create_finalDf(filenames, template_to_extract)\n",
    "    \n",
    "    # df con le somme degli F100\n",
    "    sumF100Df = create_sumF100Df(finalDf).reset_index()\n",
    "    \n",
    "    # inizializzare il nuovo workbook con i parametri\n",
    "    newWb = openpyxl.Workbook()\n",
    "    newWb.create_sheet(\"F100 Sum for File\")\n",
    "    newWb.create_sheet(\"All Parameters\")\n",
    "    if \"Sheet\" in newWb.sheetnames:\n",
    "        del newWb[\"Sheet\"]\n",
    "        \n",
    "    # copia dei df nei template nel nuovo wb\n",
    "    copy_to_template(sumF100Df, newWb, \"F100 Sum for File\")\n",
    "    copy_to_template(finalDf, newWb, \"All Parameters\")\n",
    "    \n",
    "    apply_styles(newWb, \"F100 Sum for File\")\n",
    "    apply_styles(newWb, \"All Parameters\")\n",
    "    \n",
    "    # salvataggio e close\n",
    "    newWb.save(outPath + outFile)\n",
    "    newWb.close()\n",
    "    "
   ]
  },
  {
   "cell_type": "markdown",
   "id": "f722c016",
   "metadata": {},
   "source": [
    "# Applicazione "
   ]
  },
  {
   "cell_type": "code",
   "execution_count": 19,
   "id": "ca8d8374",
   "metadata": {},
   "outputs": [
    {
     "name": "stdout",
     "output_type": "stream",
     "text": [
      "Files in Path:  ['CHASSIS my24 .xlsx', 'Copia di ELECTRONICS.xlsx', 'Copia di POWERTRAIN my24.xlsx', 'DRIVELINE my24.xlsx', 'DRIVELINE.xlsx', 'EXTERNAL TRIM.xlsx', 'INTERNAL TRIM  .xlsx', 'IVP Pedal Accelerator.xlsx', 'Lighting from Chiusa.xlsx', 'PNEUMATICS.xlsx', 'POWERTRAIN my24 version1.xlsx', 'POWERTRAIN my24.xlsx', 'reliability_IPU_Nikola from Marseglia.xlsx', 'ZF_reverse_camera_success_run.XLSX']\n",
      "Extracting Template for File  CHASSIS my24 .xlsx\n",
      "Loaded File:  CHASSIS my24 .xlsx\n",
      "Extracting Template for File  Copia di ELECTRONICS.xlsx\n",
      "Loaded File:  Copia di ELECTRONICS.xlsx\n",
      "Extracting Template for File  Copia di POWERTRAIN my24.xlsx\n",
      "problem with file  Copia di POWERTRAIN my24.xlsx\n",
      "Extracting Template for File  DRIVELINE my24.xlsx\n"
     ]
    },
    {
     "name": "stderr",
     "output_type": "stream",
     "text": [
      "C:\\Users\\f08132d\\AppData\\Local\\Temp\\ipykernel_15508\\1437089581.py:17: UserWarning: Problema con almeno un file\n",
      "  warnings.warn('Problema con almeno un file')\n"
     ]
    },
    {
     "name": "stdout",
     "output_type": "stream",
     "text": [
      "Loaded File:  DRIVELINE my24.xlsx\n",
      "Extracting Template for File  DRIVELINE.xlsx\n",
      "Loaded File:  DRIVELINE.xlsx\n",
      "Extracting Template for File  EXTERNAL TRIM.xlsx\n",
      "Loaded File:  EXTERNAL TRIM.xlsx\n",
      "Extracting Template for File  INTERNAL TRIM  .xlsx\n",
      "Loaded File:  INTERNAL TRIM  .xlsx\n",
      "Extracting Template for File  IVP Pedal Accelerator.xlsx\n",
      "Loaded File:  IVP Pedal Accelerator.xlsx\n",
      "Extracting Template for File  Lighting from Chiusa.xlsx\n",
      "Loaded File:  Lighting from Chiusa.xlsx\n",
      "Extracting Template for File  PNEUMATICS.xlsx\n",
      "Loaded File:  PNEUMATICS.xlsx\n",
      "Extracting Template for File  POWERTRAIN my24 version1.xlsx\n",
      "Loaded File:  POWERTRAIN my24 version1.xlsx\n",
      "Extracting Template for File  POWERTRAIN my24.xlsx\n",
      "Loaded File:  POWERTRAIN my24.xlsx\n",
      "Extracting Template for File  reliability_IPU_Nikola from Marseglia.xlsx\n",
      "Loaded File:  reliability_IPU_Nikola from Marseglia.xlsx\n",
      "Extracting Template for File  ZF_reverse_camera_success_run.XLSX\n",
      "Loaded File:  ZF_reverse_camera_success_run.XLSX\n"
     ]
    }
   ],
   "source": [
    "path=r\"C:\\Users\\f08132d\\OneDrive - CNH Industrial\\Desktop\\PROGRAMMI SAS\\11 TEMPLATE PYTHON\\Gruppi FBD - Copia\\\\\"\n",
    "outPath = r\"C:\\Users\\f08132d\\OneDrive - CNH Industrial\\Desktop\\PROGRAMMI SAS\\11 TEMPLATE PYTHON\\\\\"\n",
    "outFile = r\"PV Summary.xlsx\"\n",
    "\n",
    "\n",
    "#run\n",
    "get_F100_folder(path, outPath, outFile)"
   ]
  },
  {
   "cell_type": "code",
   "execution_count": null,
   "id": "02596ff9",
   "metadata": {},
   "outputs": [],
   "source": []
  },
  {
   "cell_type": "code",
   "execution_count": null,
   "id": "4c8c61b9",
   "metadata": {},
   "outputs": [],
   "source": []
  }
 ],
 "metadata": {
  "kernelspec": {
   "display_name": "Python 3 (ipykernel)",
   "language": "python",
   "name": "python3"
  },
  "language_info": {
   "codemirror_mode": {
    "name": "ipython",
    "version": 3
   },
   "file_extension": ".py",
   "mimetype": "text/x-python",
   "name": "python",
   "nbconvert_exporter": "python",
   "pygments_lexer": "ipython3",
   "version": "3.9.12"
  }
 },
 "nbformat": 4,
 "nbformat_minor": 5
}
